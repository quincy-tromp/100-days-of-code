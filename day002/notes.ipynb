{
 "cells": [
  {
   "cell_type": "code",
   "execution_count": 1,
   "id": "5ed281d8",
   "metadata": {},
   "outputs": [
    {
     "name": "stdout",
     "output_type": "stream",
     "text": [
      "H\n"
     ]
    }
   ],
   "source": [
    "#String\n",
    "print(\"Hello\"[0])"
   ]
  },
  {
   "cell_type": "code",
   "execution_count": 2,
   "id": "d9e5d60b",
   "metadata": {},
   "outputs": [
    {
     "name": "stdout",
     "output_type": "stream",
     "text": [
      "468\n",
      "123456789\n"
     ]
    }
   ],
   "source": [
    "#Integer\n",
    "print(123 + 345)\n",
    "print(123_456_789)"
   ]
  },
  {
   "cell_type": "code",
   "execution_count": 3,
   "id": "34aa191f",
   "metadata": {},
   "outputs": [
    {
     "data": {
      "text/plain": [
       "3.1419"
      ]
     },
     "execution_count": 3,
     "metadata": {},
     "output_type": "execute_result"
    }
   ],
   "source": [
    "#Float\n",
    "3.1419"
   ]
  },
  {
   "cell_type": "code",
   "execution_count": 4,
   "id": "19f12361",
   "metadata": {},
   "outputs": [
    {
     "data": {
      "text/plain": [
       "False"
      ]
     },
     "execution_count": 4,
     "metadata": {},
     "output_type": "execute_result"
    }
   ],
   "source": [
    "#Boolean\n",
    "True\n",
    "False"
   ]
  },
  {
   "cell_type": "code",
   "execution_count": 6,
   "id": "c81936e1",
   "metadata": {},
   "outputs": [
    {
     "name": "stdout",
     "output_type": "stream",
     "text": [
      "What is your name? Quincy\n",
      "<class 'int'>\n",
      "Your name has 6 characters.\n"
     ]
    }
   ],
   "source": [
    "#Check type\n",
    "num_char = len(input(\"What is your name? \"))\n",
    "print(type(num_char))\n",
    "new_num_char = str(num_char)\n",
    "print(\"Your name has \" + new_num_char + \" characters.\")"
   ]
  },
  {
   "cell_type": "code",
   "execution_count": 7,
   "id": "5d387b36",
   "metadata": {},
   "outputs": [
    {
     "name": "stdout",
     "output_type": "stream",
     "text": [
      "Type a two digit number. 23\n",
      "Your new digit number is: 5\n"
     ]
    }
   ],
   "source": [
    "#Code challenge \n",
    "two_digit_number = input(\"Type a two digit number. \")\n",
    "first_digit = two_digit_number[0]\n",
    "second_digit = two_digit_number[1]\n",
    "new_digit = int(first_digit) + int(second_digit)\n",
    "print(\"Your new digit number is: \" + str(new_digit))"
   ]
  },
  {
   "cell_type": "code",
   "execution_count": 8,
   "id": "584dfde9",
   "metadata": {},
   "outputs": [
    {
     "name": "stdout",
     "output_type": "stream",
     "text": [
      "What is your weight? (kg)73\n",
      "What is your height? (cm)175\n",
      "Your BMI is: 23.84\n"
     ]
    }
   ],
   "source": [
    "#bmi\n",
    "weight = float(input(\"What is your weight? (kg)\"))\n",
    "height = float(input(\"What is your height? (cm)\"))\n",
    "bmi = weight / (height / 100) ** 2\n",
    "bmi_as_int = round(bmi, 2)\n",
    "print(\"Your BMI is: \" + str(bmi_as_int))"
   ]
  },
  {
   "cell_type": "code",
   "execution_count": 9,
   "id": "83267096",
   "metadata": {},
   "outputs": [
    {
     "name": "stdout",
     "output_type": "stream",
     "text": [
      "Your score is 15\n"
     ]
    }
   ],
   "source": [
    "#f-strings\n",
    "score = 15\n",
    "print(f\"Your score is {score}\")"
   ]
  },
  {
   "cell_type": "code",
   "execution_count": 10,
   "id": "eb4703bd",
   "metadata": {
    "scrolled": true
   },
   "outputs": [
    {
     "name": "stdout",
     "output_type": "stream",
     "text": [
      "What is your current age?\n",
      "28\n",
      "You have 22630 days, 3224 weeks, and 744 months left.\n"
     ]
    }
   ],
   "source": [
    "#Code challenge \n",
    "age = input(\"What is your current age?\\n\")\n",
    "age_as_int = int(age)\n",
    "age_to_reach = 90\n",
    "age_difference = age_to_reach - age_as_int\n",
    "months_left = age_difference * 12\n",
    "weeks_left = age_difference * 52\n",
    "days_left = age_difference * 365\n",
    "message = f\"You have {days_left} days, {weeks_left} weeks, and {months_left} months left.\"\n",
    "print(message)"
   ]
  }
 ],
 "metadata": {
  "kernelspec": {
   "display_name": "Python 3 (ipykernel)",
   "language": "python",
   "name": "python3"
  },
  "language_info": {
   "codemirror_mode": {
    "name": "ipython",
    "version": 3
   },
   "file_extension": ".py",
   "mimetype": "text/x-python",
   "name": "python",
   "nbconvert_exporter": "python",
   "pygments_lexer": "ipython3",
   "version": "3.9.7"
  }
 },
 "nbformat": 4,
 "nbformat_minor": 5
}
