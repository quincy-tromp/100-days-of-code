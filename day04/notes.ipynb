{
 "cells": [
  {
   "cell_type": "code",
   "execution_count": 1,
   "id": "1dd893fd",
   "metadata": {},
   "outputs": [],
   "source": [
    "import random"
   ]
  },
  {
   "cell_type": "code",
   "execution_count": 2,
   "id": "8e6e0c83",
   "metadata": {},
   "outputs": [
    {
     "name": "stdout",
     "output_type": "stream",
     "text": [
      "Tails\n"
     ]
    }
   ],
   "source": [
    "#Heads or tails\n",
    "flip = random.randint(0, 1)\n",
    "if flip == 0:\n",
    "    coin = \"Tails\"\n",
    "elif flip == 1:\n",
    "    coin = \"Heads\"\n",
    "print(coin)"
   ]
  },
  {
   "cell_type": "code",
   "execution_count": 4,
   "id": "bd01bf65",
   "metadata": {},
   "outputs": [
    {
     "name": "stdout",
     "output_type": "stream",
     "text": [
      "Give me everybody's name, seperated by comma. Q, Jen, May\n",
      "Q is going to buy the meal today. \n"
     ]
    }
   ],
   "source": [
    "#Banker roulette\n",
    "names = input(\"Give me everybody's name, seperated by comma. \")\n",
    "name_list = names.split(\",\")\n",
    "message = \"is going to buy the meal today.\"\n",
    "##option 1\n",
    "person_who_will_pay = random.choice(name_list).title()\n",
    "print(f\"{person_who_will_pay} {message} \")\n",
    "##optioin 2\n",
    "#person_who_will_pay = name_list[random.randint(0, len(name_list)-1)].title()\n",
    "#print(f\"{person_who_will_pay} {message}\")"
   ]
  },
  {
   "cell_type": "code",
   "execution_count": 5,
   "id": "97615f4d",
   "metadata": {},
   "outputs": [
    {
     "name": "stdout",
     "output_type": "stream",
     "text": [
      "['⬜️', '⬜️', '⬜️']\n",
      "['⬜️', '⬜️', '⬜️']\n",
      "['⬜️', '⬜️', '⬜️']\n",
      "Where do you want to put the treasure? (For example column 2, row 3 would be entered as: 23) 22\n",
      "['⬜️', '⬜️', '⬜️']\n",
      "['⬜️', '💰', '⬜️']\n",
      "['⬜️', '⬜️', '⬜️']\n"
     ]
    }
   ],
   "source": [
    "#Treasure map\n",
    "row1 = [\"⬜️\", \"⬜️\", \"⬜️\"]\n",
    "row2 = [\"⬜️\", \"⬜️\", \"⬜️\"]\n",
    "row3 = [\"⬜️\", \"⬜️\", \"⬜️\"]\n",
    "map = [row1, row2, row3]\n",
    "print(f\"{row1}\\n{row2}\\n{row3}\")\n",
    "\n",
    "position = input(\"Where do you want to put the treasure?\" + \" \" + \n",
    "\"(For example column 2, row 3 would be entered as: 23) \")\n",
    "column = int(position[0])\n",
    "row = int(position[1])\n",
    "map[row-1][column-1] = \"💰\"\n",
    "\n",
    "print(f\"{row1}\\n{row2}\\n{row3}\")"
   ]
  }
 ],
 "metadata": {
  "kernelspec": {
   "display_name": "Python 3 (ipykernel)",
   "language": "python",
   "name": "python3"
  },
  "language_info": {
   "codemirror_mode": {
    "name": "ipython",
    "version": 3
   },
   "file_extension": ".py",
   "mimetype": "text/x-python",
   "name": "python",
   "nbconvert_exporter": "python",
   "pygments_lexer": "ipython3",
   "version": "3.9.7"
  }
 },
 "nbformat": 4,
 "nbformat_minor": 5
}
