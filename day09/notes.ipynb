{
 "cells": [
  {
   "cell_type": "code",
   "execution_count": 6,
   "id": "853115c9",
   "metadata": {},
   "outputs": [
    {
     "name": "stdout",
     "output_type": "stream",
     "text": [
      "A moth in your computer.\n",
      "{'Bug': ('An error in a program that prevents the program from running as expected.',), 'Function': 'A piece of code that you can easily call over and over again.', 'Loop': ('The action of doing something over and over again.',)}\n",
      "Bug\n",
      "('An error in a program that prevents the program from running as expected.',)\n",
      "Function\n",
      "A piece of code that you can easily call over and over again.\n",
      "Loop\n",
      "('The action of doing something over and over again.',)\n"
     ]
    }
   ],
   "source": [
    "#Dictionaries\n",
    "programming_dictionary = {\n",
    "    \"Bug\": \"A moth in your computer.\", \n",
    "    \"Function\": \"A piece of code that you can easily call over and over again.\",\n",
    "}\n",
    "#Retrieving item from dictionary\n",
    "print(programming_dictionary[\"Bug\"])\n",
    "\n",
    "#Adding item to dictionary\n",
    "programming_dictionary[\"Loop\"] = \"The action of doing something over and over again.\",\n",
    "\n",
    "#Editing item of dictionary\n",
    "programming_dictionary[\"Bug\"] = \"An error in a program that prevents the program from running as expected.\",\n",
    "\n",
    "print(programming_dictionary)\n",
    "\n",
    "#Looping through a dictionary\n",
    "for key in programming_dictionary:\n",
    "    print(key)\n",
    "    print(programming_dictionary[key])"
   ]
  },
  {
   "cell_type": "code",
   "execution_count": 8,
   "id": "30f66ee9",
   "metadata": {},
   "outputs": [
    {
     "name": "stdout",
     "output_type": "stream",
     "text": [
      "{'Harry': 'Exceeds Expectations', 'Ron': 'Acceptable', 'Hermione': 'Outstanding', 'Draco': 'Acceptable', 'Neville': 'Fail'}\n"
     ]
    }
   ],
   "source": [
    "#Grading program\n",
    "student_scores = {\n",
    "    \"Harry\": 81,\n",
    "    \"Ron\": 78,\n",
    "    \"Hermione\": 99,\n",
    "    \"Draco\": 74,\n",
    "    \"Neville\": 62,\n",
    "}\n",
    "\n",
    "'''\n",
    "Grading criteria\n",
    "Scores 91 - 100 = Outstanding\n",
    "Scores 81 - 90 = Exceeds Expectations\n",
    "Scores 71 - 80 = Acceptable\n",
    "Scores 70 - lower = Fail\n",
    "'''\n",
    "\n",
    "student_grades = {}\n",
    "for student in student_scores:\n",
    "    if student_scores[student] > 90:\n",
    "        student_grades[student] = \"Outstanding\"\n",
    "    elif student_scores[student] > 80:\n",
    "        student_grades[student] = \"Exceeds Expectations\"\n",
    "    elif student_scores[student] > 70:\n",
    "        student_grades[student] = \"Acceptable\"\n",
    "    else:\n",
    "        student_grades[student] = \"Fail\"\n",
    "\n",
    "print(student_grades)"
   ]
  },
  {
   "cell_type": "code",
   "execution_count": 12,
   "id": "4a28a4a2",
   "metadata": {},
   "outputs": [
    {
     "name": "stdout",
     "output_type": "stream",
     "text": [
      "[{'country': 'France', 'total_visits': 12, 'cities_visited': ['Paris', 'Lille', 'Dijon']}, {'country': 'Germany', 'total_visited': 5, 'cities_visited': ['Berlin', 'Hamburg', 'Stuttgart']}, {'country': 'Russia', 'total_visits': 2, 'cities_visited': ['Moscow', 'Saint Petersburg']}]\n"
     ]
    }
   ],
   "source": [
    "#Nesting\n",
    "travel_log = [\n",
    "    {\n",
    "        \"country\": \"France\", \n",
    "        \"total_visits\": 12,\n",
    "        \"cities_visited\": [\"Paris\", \"Lille\", \"Dijon\"],   \n",
    "    },\n",
    "    {\n",
    "        \"country\": \"Germany\",\n",
    "        \"total_visited\": 5,\n",
    "        \"cities_visited\": [\"Berlin\", \"Hamburg\", \"Stuttgart\"],\n",
    "    },\n",
    "]\n",
    "\n",
    "def add_new_country(country_visited, times_visited, cities_visited):\n",
    "    new_country = {}\n",
    "    new_country[\"country\"] = country_visited\n",
    "    new_country[\"total_visits\"] = times_visited\n",
    "    new_country[\"cities_visited\"] = cities_visited\n",
    "    travel_log.append(new_country)\n",
    "\n",
    "add_new_country(\"Russia\", 2, [\"Moscow\", \"Saint Petersburg\"])\n",
    "print(travel_log)"
   ]
  },
  {
   "cell_type": "code",
   "execution_count": null,
   "id": "dbd0901c",
   "metadata": {},
   "outputs": [],
   "source": []
  }
 ],
 "metadata": {
  "kernelspec": {
   "display_name": "Python 3 (ipykernel)",
   "language": "python",
   "name": "python3"
  },
  "language_info": {
   "codemirror_mode": {
    "name": "ipython",
    "version": 3
   },
   "file_extension": ".py",
   "mimetype": "text/x-python",
   "name": "python",
   "nbconvert_exporter": "python",
   "pygments_lexer": "ipython3",
   "version": "3.9.7"
  }
 },
 "nbformat": 4,
 "nbformat_minor": 5
}
