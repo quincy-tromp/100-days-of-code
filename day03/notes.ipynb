{
 "cells": [
  {
   "cell_type": "code",
   "execution_count": 1,
   "id": "f6ef2f3d",
   "metadata": {},
   "outputs": [
    {
     "name": "stdout",
     "output_type": "stream",
     "text": [
      "Welcome to the rollercoaster!\n",
      "What is your height in cm? 174\n",
      "You can ride the rollercoaster!\n"
     ]
    }
   ],
   "source": [
    "#if-else statement\n",
    "print(\"Welcome to the rollercoaster!\")\n",
    "height = int(input(\"What is your height in cm? \"))\n",
    "\n",
    "if height >= 120:\n",
    "    print(\"You can ride the rollercoaster!\")\n",
    "else:\n",
    "    print(\"Sorry, you have to grow taller before you can ride.\")"
   ]
  },
  {
   "cell_type": "code",
   "execution_count": 2,
   "id": "2a87eac9",
   "metadata": {},
   "outputs": [
    {
     "name": "stdout",
     "output_type": "stream",
     "text": [
      "Which number do you want to check? 7\n",
      "7 is an odd number.\n"
     ]
    }
   ],
   "source": [
    "#Odd or even / modulo operator\n",
    "number = int(input(\"Which number do you want to check? \"))\n",
    "\n",
    "if number % 2 == 0:\n",
    "    print(f\"{number} is an even number.\")\n",
    "else:\n",
    "    print(f\"{number} is an odd number.\")"
   ]
  },
  {
   "cell_type": "code",
   "execution_count": 3,
   "id": "7ecc5d2d",
   "metadata": {},
   "outputs": [
    {
     "name": "stdout",
     "output_type": "stream",
     "text": [
      "Welcome to the rollercoaster!\n",
      "What is your height in cm? 174\n",
      "You can ride the rollercoaster!\n",
      "What is your age? 28\n",
      "Please pay $12.\n"
     ]
    }
   ],
   "source": [
    "#Nested if-else statemtent\n",
    "print(\"Welcome to the rollercoaster!\")\n",
    "height = int(input(\"What is your height in cm? \"))\n",
    "\n",
    "if height >= 120:\n",
    "    print(\"You can ride the rollercoaster!\")\n",
    "    age = int(input(\"What is your age? \"))\n",
    "    if age < 12:\n",
    "        print(\"Please pay $5.\")\n",
    "    elif age <= 18:\n",
    "        print(\"Please pay $7.\")\n",
    "    else:\n",
    "        print(\"Please pay $12.\")\n",
    "else:\n",
    "    print(\"Sorry, you have to grow taller before you can ride.\")"
   ]
  },
  {
   "cell_type": "code",
   "execution_count": 4,
   "id": "163da1de",
   "metadata": {},
   "outputs": [
    {
     "name": "stdout",
     "output_type": "stream",
     "text": [
      "What is your weight in kg? 73\n",
      "What is your height in m? 1.75\n",
      "Your bmi is 23.8.\n",
      "You have a normal weight\n"
     ]
    }
   ],
   "source": [
    "#bmi\n",
    "weight = int(input(\"What is your weight in kg? \"))\n",
    "height = float(input(\"What is your height in m? \"))\n",
    "bmi = round(weight / height ** 2 , 1)\n",
    "print(f\"Your bmi is {bmi}.\")\n",
    "\n",
    "if bmi < 18.5:\n",
    "    print(\"You are underweight\")\n",
    "elif bmi < 25:\n",
    "    print(\"You have a normal weight\")\n",
    "elif bmi < 30:\n",
    "    print(\"You are overweight\")\n",
    "elif bmi < 35:\n",
    "    print(\"You are obese\")\n",
    "else:\n",
    "    print(\"You are clinically obese\")"
   ]
  },
  {
   "cell_type": "code",
   "execution_count": 5,
   "id": "9b2e5156",
   "metadata": {},
   "outputs": [
    {
     "name": "stdout",
     "output_type": "stream",
     "text": [
      "Which year do you want to check? 2022\n",
      "Not leap year.\n"
     ]
    }
   ],
   "source": [
    "#leap-year problem\n",
    "year = int(input(\"Which year do you want to check? \"))\n",
    "\n",
    "if year % 4 == 0:\n",
    "    if year % 100 == 0:\n",
    "        if year % 400 == 0:\n",
    "            print(\"Leap year.\")\n",
    "        else:\n",
    "            print(\"Not leap year.\")\n",
    "    else:\n",
    "        print(\"Not leap year.\")\n",
    "else:\n",
    "    print(\"Not leap year.\")"
   ]
  },
  {
   "cell_type": "code",
   "execution_count": 6,
   "id": "2ba7d1cc",
   "metadata": {},
   "outputs": [
    {
     "name": "stdout",
     "output_type": "stream",
     "text": [
      "Welcome to the rollercoaster!\n",
      "What is your height in cm? 175\n",
      "You can ride the rollercoaster!\n",
      "What is your age? 28\n",
      "Adult tickets are $12.\n",
      "Do you want a photo taken? Y or N. Y\n",
      "Your final bill is $15.\n"
     ]
    }
   ],
   "source": [
    "#Multiple if statemtents\n",
    "print(\"Welcome to the rollercoaster!\")\n",
    "height = int(input(\"What is your height in cm? \"))\n",
    "bill = 0\n",
    "\n",
    "if height >= 120:\n",
    "    print(\"You can ride the rollercoaster!\")\n",
    "    age = int(input(\"What is your age? \"))\n",
    "    if age < 12:\n",
    "        bill = 5\n",
    "        print(\"Child tickets are $5.\")\n",
    "    elif age <= 18:\n",
    "        bill = 7\n",
    "        print(\"Youth tickets are $7.\")\n",
    "    else:\n",
    "        bill = 12\n",
    "        print(\"Adult tickets are $12.\")\n",
    "\n",
    "    want_photo = input(\"Do you want a photo taken? Y or N. \")\n",
    "    if want_photo == \"Y\":\n",
    "        bill += 3\n",
    "    print(f\"Your final bill is ${bill}.\")   \n",
    "else:\n",
    "    print(\"Sorry, you have to grow taller before you can ride.\")"
   ]
  },
  {
   "cell_type": "code",
   "execution_count": 7,
   "id": "21e690a9",
   "metadata": {},
   "outputs": [
    {
     "name": "stdout",
     "output_type": "stream",
     "text": [
      "Welcome to Python Pizza Deliveries!\n",
      "What size pizza do you want? S, M, or L M\n",
      "Do you want pepperoni? Y or N Y\n",
      "Do you want extra cheese? Y or N Y\n",
      "Your final bill is $24.\n"
     ]
    }
   ],
   "source": [
    "#Pizza order practice \n",
    "greeting = \"Welcome to Python Pizza Deliveries!\"\n",
    "print(greeting)\n",
    "\n",
    "size = input(\"What size pizza do you want? S, M, or L \")\n",
    "add_pepperoni = input(\"Do you want pepperoni? Y or N \")\n",
    "extra_cheese = input(\"Do you want extra cheese? Y or N \")\n",
    "bill = 0\n",
    "\n",
    "if size == \"S\":\n",
    "    bill = 15\n",
    "elif size == \"M\":\n",
    "    bill = 20\n",
    "elif size == \"L\":\n",
    "    bill = 25\n",
    "\n",
    "if add_pepperoni == \"Y\":\n",
    "    if size == \"S\":\n",
    "        bill += 2\n",
    "    else:\n",
    "        bill += 3\n",
    "\n",
    "if extra_cheese == \"Y\":\n",
    "    bill += 1\n",
    "\n",
    "print(f\"Your final bill is ${bill}.\")"
   ]
  },
  {
   "cell_type": "code",
   "execution_count": 8,
   "id": "859346a8",
   "metadata": {},
   "outputs": [
    {
     "name": "stdout",
     "output_type": "stream",
     "text": [
      "Welcome to the Love Calculator!\n",
      "What is your name?\n",
      "Quincy Tromp\n",
      "What is their name?\n",
      "Jeanifer Fiqueira\n",
      "Your score is 94, you go together like coke and mentos.\n"
     ]
    }
   ],
   "source": [
    "#Love calculator\n",
    "greeting = \"Welcome to the Love Calculator!\"\n",
    "print(greeting)\n",
    "name1 = input(\"What is your name?\\n\")\n",
    "name2 = input(\"What is their name?\\n\")\n",
    "\n",
    "combined_name = (name1 + name2).lower()\n",
    "\n",
    "t = combined_name.count(\"t\") \n",
    "r = combined_name.count(\"r\") \n",
    "u = combined_name.count(\"u\") \n",
    "e = combined_name.count(\"e\") \n",
    "true = t + r + u + e\n",
    "\n",
    "l = combined_name.count(\"l\") \n",
    "o = combined_name.count(\"o\") \n",
    "v = combined_name.count(\"v\") \n",
    "love = l + o + v + e\n",
    "\n",
    "score = int(str(true) + str(love))\n",
    "\n",
    "if score < 10 or score > 90:\n",
    "    print(f\"Your score is {score}, you go together like coke and mentos.\")\n",
    "elif score >= 40 and score <= 50:\n",
    "    print(f\"Your score is {score}, you are alright together.\")\n",
    "else:\n",
    "    print(f\"Your score is {score}.\")"
   ]
  }
 ],
 "metadata": {
  "kernelspec": {
   "display_name": "Python 3 (ipykernel)",
   "language": "python",
   "name": "python3"
  },
  "language_info": {
   "codemirror_mode": {
    "name": "ipython",
    "version": 3
   },
   "file_extension": ".py",
   "mimetype": "text/x-python",
   "name": "python",
   "nbconvert_exporter": "python",
   "pygments_lexer": "ipython3",
   "version": "3.9.7"
  }
 },
 "nbformat": 4,
 "nbformat_minor": 5
}
