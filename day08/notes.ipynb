{
 "cells": [
  {
   "cell_type": "code",
   "execution_count": 1,
   "id": "62aa9170",
   "metadata": {},
   "outputs": [
    {
     "name": "stdout",
     "output_type": "stream",
     "text": [
      "Hello\n",
      "How do you do?\n",
      "Isn't the weather nice today?\n"
     ]
    }
   ],
   "source": [
    "#Function\n",
    "def greet():\n",
    "    print(\"Hello\")\n",
    "    print(\"How do you do?\")\n",
    "    print(\"Isn't the weather nice today?\")\n",
    "\n",
    "greet()"
   ]
  },
  {
   "cell_type": "code",
   "execution_count": 7,
   "id": "63266dda",
   "metadata": {},
   "outputs": [
    {
     "name": "stdout",
     "output_type": "stream",
     "text": [
      "Hello Quincy\n",
      "How do you do Quincy?\n"
     ]
    }
   ],
   "source": [
    "#Function with input\n",
    "def greet_with_name(name):\n",
    "    print(f\"Hello {name}\")\n",
    "    print(f\"How do you do {name}?\")\n",
    "\n",
    "greet_with_name(\"Quincy\")"
   ]
  },
  {
   "cell_type": "code",
   "execution_count": 14,
   "id": "806ab3e6",
   "metadata": {},
   "outputs": [
    {
     "name": "stdout",
     "output_type": "stream",
     "text": [
      "Hello Quincy\n",
      "What is it like in Rotterdam?\n",
      "Hello Quincy\n",
      "What is it like in Rotterdam?\n"
     ]
    }
   ],
   "source": [
    "#Function with more than 1 input\n",
    "def greet_with(name, location):\n",
    "    print(f\"Hello {name}\")\n",
    "    print(f\"What is it like in {location}?\")\n",
    "\n",
    "#Positional argument\n",
    "greet_with(\"Quincy\", \"Rotterdam\")\n",
    "#Keyword argument\n",
    "greet_with(location=\"Rotterdam\", name=\"Quincy\")"
   ]
  },
  {
   "cell_type": "code",
   "execution_count": 21,
   "id": "6af0210f",
   "metadata": {},
   "outputs": [
    {
     "name": "stdout",
     "output_type": "stream",
     "text": [
      "Height of wall: 7\n",
      "Width of wall: 13\n",
      "You'll need 19 cans of paint.\n"
     ]
    }
   ],
   "source": [
    "#Area Calculation\n",
    "import math\n",
    "wall_height = int(input(\"Height of wall: \"))\n",
    "wall_width = int(input(\"Width of wall: \"))\n",
    "coverage = 5\n",
    "\n",
    "def paint_calc(height, width, cover):\n",
    "    num_of_cans = math.ceil((height * width) / cover)\n",
    "    print(f\"You'll need {num_of_cans} cans of paint.\")\n",
    "\n",
    "paint_calc(height=wall_height, width=wall_width, cover=coverage)"
   ]
  },
  {
   "cell_type": "code",
   "execution_count": 42,
   "id": "7becf803",
   "metadata": {},
   "outputs": [
    {
     "name": "stdout",
     "output_type": "stream",
     "text": [
      "Check this number: 89\n",
      "89 is a prime number.\n"
     ]
    }
   ],
   "source": [
    "#Prime number checker\n",
    "n = int(input(\"Check this number: \"))\n",
    "\n",
    "def prime_checker(number):\n",
    "    prime = True\n",
    "    for i in range(2, number):\n",
    "        if number % i == 0:\n",
    "            prime = False\n",
    "   \n",
    "    if prime == True:\n",
    "        print(f\"{number} is a prime number.\")\n",
    "    else:\n",
    "        print(f\"{number} is not a prime number\")\n",
    "        \n",
    "prime_checker(number=n)"
   ]
  },
  {
   "cell_type": "code",
   "execution_count": 45,
   "id": "2f8bcc87",
   "metadata": {},
   "outputs": [
    {
     "name": "stdout",
     "output_type": "stream",
     "text": [
      "1 is a prime number.\n",
      "2 is a prime number.\n",
      "3 is a prime number.\n",
      "4 is not a prime number\n",
      "5 is a prime number.\n",
      "6 is not a prime number\n",
      "7 is a prime number.\n",
      "8 is not a prime number\n",
      "9 is not a prime number\n",
      "10 is not a prime number\n",
      "11 is a prime number.\n",
      "12 is not a prime number\n",
      "13 is a prime number.\n",
      "14 is not a prime number\n",
      "15 is not a prime number\n",
      "16 is not a prime number\n",
      "17 is a prime number.\n",
      "18 is not a prime number\n",
      "19 is a prime number.\n",
      "20 is not a prime number\n",
      "21 is not a prime number\n",
      "22 is not a prime number\n",
      "23 is a prime number.\n",
      "24 is not a prime number\n",
      "25 is not a prime number\n",
      "26 is not a prime number\n",
      "27 is not a prime number\n",
      "28 is not a prime number\n",
      "29 is a prime number.\n",
      "30 is not a prime number\n",
      "31 is a prime number.\n",
      "32 is not a prime number\n",
      "33 is not a prime number\n",
      "34 is not a prime number\n",
      "35 is not a prime number\n",
      "36 is not a prime number\n",
      "37 is a prime number.\n",
      "38 is not a prime number\n",
      "39 is not a prime number\n",
      "40 is not a prime number\n",
      "41 is a prime number.\n",
      "42 is not a prime number\n",
      "43 is a prime number.\n",
      "44 is not a prime number\n",
      "45 is not a prime number\n",
      "46 is not a prime number\n",
      "47 is a prime number.\n",
      "48 is not a prime number\n",
      "49 is not a prime number\n",
      "50 is not a prime number\n",
      "51 is not a prime number\n",
      "52 is not a prime number\n",
      "53 is a prime number.\n",
      "54 is not a prime number\n",
      "55 is not a prime number\n",
      "56 is not a prime number\n",
      "57 is not a prime number\n",
      "58 is not a prime number\n",
      "59 is a prime number.\n",
      "60 is not a prime number\n",
      "61 is a prime number.\n",
      "62 is not a prime number\n",
      "63 is not a prime number\n",
      "64 is not a prime number\n",
      "65 is not a prime number\n",
      "66 is not a prime number\n",
      "67 is a prime number.\n",
      "68 is not a prime number\n",
      "69 is not a prime number\n",
      "70 is not a prime number\n",
      "71 is a prime number.\n",
      "72 is not a prime number\n",
      "73 is a prime number.\n",
      "74 is not a prime number\n",
      "75 is not a prime number\n",
      "76 is not a prime number\n",
      "77 is not a prime number\n",
      "78 is not a prime number\n",
      "79 is a prime number.\n",
      "80 is not a prime number\n",
      "81 is not a prime number\n",
      "82 is not a prime number\n",
      "83 is a prime number.\n",
      "84 is not a prime number\n",
      "85 is not a prime number\n",
      "86 is not a prime number\n",
      "87 is not a prime number\n",
      "88 is not a prime number\n",
      "89 is a prime number.\n",
      "90 is not a prime number\n",
      "91 is not a prime number\n",
      "92 is not a prime number\n",
      "93 is not a prime number\n",
      "94 is not a prime number\n",
      "95 is not a prime number\n",
      "96 is not a prime number\n",
      "97 is a prime number.\n",
      "98 is not a prime number\n",
      "99 is not a prime number\n",
      "100 is not a prime number\n"
     ]
    }
   ],
   "source": [
    "#Prime Numbers\n",
    "def prime_checker_2():\n",
    "    for i in range(1,3):\n",
    "        print(f\"{i} is a prime number.\")\n",
    "    for i in range(3, 101):\n",
    "        prime_checker(i)\n",
    "prime_checker_2()"
   ]
  },
  {
   "cell_type": "code",
   "execution_count": null,
   "id": "400d1f85",
   "metadata": {},
   "outputs": [],
   "source": []
  }
 ],
 "metadata": {
  "kernelspec": {
   "display_name": "Python 3 (ipykernel)",
   "language": "python",
   "name": "python3"
  },
  "language_info": {
   "codemirror_mode": {
    "name": "ipython",
    "version": 3
   },
   "file_extension": ".py",
   "mimetype": "text/x-python",
   "name": "python",
   "nbconvert_exporter": "python",
   "pygments_lexer": "ipython3",
   "version": "3.9.7"
  }
 },
 "nbformat": 4,
 "nbformat_minor": 5
}
