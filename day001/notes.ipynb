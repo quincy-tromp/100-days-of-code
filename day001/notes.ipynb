{
 "cells": [
  {
   "cell_type": "code",
   "execution_count": 2,
   "id": "443294c7",
   "metadata": {},
   "outputs": [
    {
     "name": "stdout",
     "output_type": "stream",
     "text": [
      "\n",
      "Hello World!\n"
     ]
    }
   ],
   "source": [
    "#Hello World!\n",
    "print(\"\\nHello World!\")"
   ]
  },
  {
   "cell_type": "code",
   "execution_count": 3,
   "id": "dd6cb443",
   "metadata": {},
   "outputs": [
    {
     "name": "stdout",
     "output_type": "stream",
     "text": [
      "Day 1 - Python Print Function\n",
      "The function is declared like this:\n",
      "print('what to print')\n"
     ]
    }
   ],
   "source": [
    "#Print function\n",
    "print(\"Day 1 - Python Print Function\")\n",
    "print(\"The function is declared like this:\")\n",
    "print(\"print('what to print')\")"
   ]
  },
  {
   "cell_type": "code",
   "execution_count": 4,
   "id": "aa399cef",
   "metadata": {},
   "outputs": [
    {
     "name": "stdout",
     "output_type": "stream",
     "text": [
      "\n",
      "Hello World!\n",
      "Hello World!\n"
     ]
    }
   ],
   "source": [
    "#Escape sequence \\n for newline\n",
    "print(\"\\nHello World!\\nHello World!\")"
   ]
  },
  {
   "cell_type": "code",
   "execution_count": 5,
   "id": "b74f559b",
   "metadata": {},
   "outputs": [
    {
     "name": "stdout",
     "output_type": "stream",
     "text": [
      "Hello my friend\n"
     ]
    }
   ],
   "source": [
    "#String concatenation\n",
    "print(\"Hello\" + \" \" + \"my friend\")"
   ]
  },
  {
   "cell_type": "code",
   "execution_count": 7,
   "id": "37160223",
   "metadata": {},
   "outputs": [
    {
     "name": "stdout",
     "output_type": "stream",
     "text": [
      "What is your name? Quincy\n",
      "\n",
      "Hello, Quincy\n"
     ]
    }
   ],
   "source": [
    "#Input function\n",
    "print(\"\\nHello, \" + input(\"What is your name? \"))"
   ]
  },
  {
   "cell_type": "code",
   "execution_count": 15,
   "id": "b25af595",
   "metadata": {},
   "outputs": [
    {
     "name": "stdout",
     "output_type": "stream",
     "text": [
      "What is your name? Quincy\n",
      "6\n"
     ]
    }
   ],
   "source": [
    "#Input function pt.2\n",
    "print(len(input(\"What is your name? \")))"
   ]
  },
  {
   "cell_type": "code",
   "execution_count": 23,
   "id": "87834ae1",
   "metadata": {},
   "outputs": [
    {
     "name": "stdout",
     "output_type": "stream",
     "text": [
      "\n",
      "What is your name? Quincy\n",
      "6\n"
     ]
    }
   ],
   "source": [
    "#Variables\n",
    "name = input(\"\\nWhat is your name? \")\n",
    "name_length = len(name)\n",
    "print(name_length) "
   ]
  },
  {
   "cell_type": "code",
   "execution_count": 24,
   "id": "36ca709a",
   "metadata": {},
   "outputs": [
    {
     "name": "stdout",
     "output_type": "stream",
     "text": [
      "a:1\n",
      "b:2\n",
      "a = 2\n",
      "b = 1\n"
     ]
    }
   ],
   "source": [
    "#Switching around the values\n",
    "a = input(\"a:\")\n",
    "b = input(\"b:\")\n",
    "\n",
    "c = a\n",
    "a = b\n",
    "b = c\n",
    "\n",
    "print(\"a = \" + a)\n",
    "print(\"b = \" + b)"
   ]
  },
  {
   "cell_type": "code",
   "execution_count": null,
   "id": "a878b4e9",
   "metadata": {},
   "outputs": [],
   "source": []
  }
 ],
 "metadata": {
  "kernelspec": {
   "display_name": "Python 3 (ipykernel)",
   "language": "python",
   "name": "python3"
  },
  "language_info": {
   "codemirror_mode": {
    "name": "ipython",
    "version": 3
   },
   "file_extension": ".py",
   "mimetype": "text/x-python",
   "name": "python",
   "nbconvert_exporter": "python",
   "pygments_lexer": "ipython3",
   "version": "3.9.7"
  }
 },
 "nbformat": 4,
 "nbformat_minor": 5
}
